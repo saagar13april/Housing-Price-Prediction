{
 "cells": [
  {
   "cell_type": "code",
   "execution_count": 1,
   "metadata": {},
   "outputs": [],
   "source": [
    "import pandas as pd\n",
    "import numpy as np\n",
    "import matplotlib.pyplot as plt\n",
    "import seaborn as sns\n",
    "import os\n",
    "import sklearn.metrics as metrics\n",
    "from sklearn.model_selection import train_test_split\n",
    "from sklearn.preprocessing import StandardScaler\n",
    "from sklearn.linear_model import LinearRegression\n",
    "from sklearn.tree import DecisionTreeRegressor\n",
    "from sklearn.ensemble import RandomForestRegressor, GradientBoostingRegressor\n",
    "from sklearn.model_selection import GridSearchCV\n",
    "from sklearn.pipeline import Pipeline\n",
    "import joblib"
   ]
  },
  {
   "cell_type": "code",
   "execution_count": 2,
   "metadata": {},
   "outputs": [
    {
     "data": {
      "text/html": [
       "<div>\n",
       "<style scoped>\n",
       "    .dataframe tbody tr th:only-of-type {\n",
       "        vertical-align: middle;\n",
       "    }\n",
       "\n",
       "    .dataframe tbody tr th {\n",
       "        vertical-align: top;\n",
       "    }\n",
       "\n",
       "    .dataframe thead th {\n",
       "        text-align: right;\n",
       "    }\n",
       "</style>\n",
       "<table border=\"1\" class=\"dataframe\">\n",
       "  <thead>\n",
       "    <tr style=\"text-align: right;\">\n",
       "      <th></th>\n",
       "      <th>price</th>\n",
       "      <th>bedrooms</th>\n",
       "      <th>bathrooms</th>\n",
       "      <th>sqft_living</th>\n",
       "      <th>view</th>\n",
       "      <th>grade</th>\n",
       "      <th>sqft_above</th>\n",
       "      <th>sqft_basement</th>\n",
       "      <th>lat</th>\n",
       "      <th>sqft_living15</th>\n",
       "    </tr>\n",
       "  </thead>\n",
       "  <tbody>\n",
       "    <tr>\n",
       "      <th>0</th>\n",
       "      <td>221900.0</td>\n",
       "      <td>3</td>\n",
       "      <td>1.00</td>\n",
       "      <td>1180</td>\n",
       "      <td>0</td>\n",
       "      <td>7</td>\n",
       "      <td>1180</td>\n",
       "      <td>0</td>\n",
       "      <td>47.5112</td>\n",
       "      <td>1340</td>\n",
       "    </tr>\n",
       "    <tr>\n",
       "      <th>1</th>\n",
       "      <td>538000.0</td>\n",
       "      <td>3</td>\n",
       "      <td>2.25</td>\n",
       "      <td>2570</td>\n",
       "      <td>0</td>\n",
       "      <td>7</td>\n",
       "      <td>2170</td>\n",
       "      <td>400</td>\n",
       "      <td>47.7210</td>\n",
       "      <td>1690</td>\n",
       "    </tr>\n",
       "    <tr>\n",
       "      <th>2</th>\n",
       "      <td>180000.0</td>\n",
       "      <td>2</td>\n",
       "      <td>1.00</td>\n",
       "      <td>770</td>\n",
       "      <td>0</td>\n",
       "      <td>6</td>\n",
       "      <td>770</td>\n",
       "      <td>0</td>\n",
       "      <td>47.7379</td>\n",
       "      <td>2720</td>\n",
       "    </tr>\n",
       "    <tr>\n",
       "      <th>3</th>\n",
       "      <td>604000.0</td>\n",
       "      <td>4</td>\n",
       "      <td>3.00</td>\n",
       "      <td>1960</td>\n",
       "      <td>0</td>\n",
       "      <td>7</td>\n",
       "      <td>1050</td>\n",
       "      <td>910</td>\n",
       "      <td>47.5208</td>\n",
       "      <td>1360</td>\n",
       "    </tr>\n",
       "    <tr>\n",
       "      <th>4</th>\n",
       "      <td>510000.0</td>\n",
       "      <td>3</td>\n",
       "      <td>2.00</td>\n",
       "      <td>1680</td>\n",
       "      <td>0</td>\n",
       "      <td>8</td>\n",
       "      <td>1680</td>\n",
       "      <td>0</td>\n",
       "      <td>47.6168</td>\n",
       "      <td>1800</td>\n",
       "    </tr>\n",
       "  </tbody>\n",
       "</table>\n",
       "</div>"
      ],
      "text/plain": [
       "      price  bedrooms  bathrooms  sqft_living  view  grade  sqft_above  \\\n",
       "0  221900.0         3       1.00         1180     0      7        1180   \n",
       "1  538000.0         3       2.25         2570     0      7        2170   \n",
       "2  180000.0         2       1.00          770     0      6         770   \n",
       "3  604000.0         4       3.00         1960     0      7        1050   \n",
       "4  510000.0         3       2.00         1680     0      8        1680   \n",
       "\n",
       "   sqft_basement      lat  sqft_living15  \n",
       "0              0  47.5112           1340  \n",
       "1            400  47.7210           1690  \n",
       "2              0  47.7379           2720  \n",
       "3            910  47.5208           1360  \n",
       "4              0  47.6168           1800  "
      ]
     },
     "execution_count": 2,
     "metadata": {},
     "output_type": "execute_result"
    }
   ],
   "source": [
    "df =  pd.read_csv('dataset/cleaned_dataset.csv')\n",
    "df.head()"
   ]
  },
  {
   "cell_type": "code",
   "execution_count": 3,
   "metadata": {},
   "outputs": [],
   "source": [
    "X = df.drop('price', axis=1)\n",
    "y = df['price']"
   ]
  },
  {
   "cell_type": "code",
   "execution_count": 4,
   "metadata": {},
   "outputs": [
    {
     "name": "stdout",
     "output_type": "stream",
     "text": [
      "X train shape (17290, 9)\n",
      "X test shape (4323, 9)\n",
      "y train shape (17290,)\n",
      "y test shape (4323,)\n"
     ]
    }
   ],
   "source": [
    "X_train, X_test, y_train, y_test = train_test_split(X, y, test_size=0.2, random_state=101)\n",
    "print(f'X train shape {X_train.shape}')\n",
    "print(f'X test shape {X_test.shape}')\n",
    "print(f'y train shape {y_train.shape}')\n",
    "print(f'y test shape {y_test.shape}')"
   ]
  },
  {
   "cell_type": "code",
   "execution_count": 5,
   "metadata": {},
   "outputs": [],
   "source": [
    "# pipeline\n",
    "model1 = Pipeline([('scaler', StandardScaler()), ('model', LinearRegression())])\n",
    "model2 = Pipeline([('scaler', StandardScaler()), ('model', DecisionTreeRegressor())])\n",
    "model3 = Pipeline([('scaler', StandardScaler()), ('model', RandomForestRegressor())])\n",
    "model4 = Pipeline([('scaler', StandardScaler()), ('model', GradientBoostingRegressor())])"
   ]
  },
  {
   "cell_type": "code",
   "execution_count": 6,
   "metadata": {},
   "outputs": [],
   "source": [
    "# hyperparameter\n",
    "param1 = {'model__fit_intercept': [True, False]}\n",
    "param2 = {'model__max_depth': [2, 3, 4, 5, 6, 7, 8, 9, 10]}\n",
    "param3 = {'model__n_estimators': [100, 200, 300, 400, 500], 'model__max_depth': [10,20,30]}\n",
    "param4 = {'model__n_estimators': [100, 200, 300, 400, 500], 'model__max_depth': [10,50,100]}"
   ]
  },
  {
   "cell_type": "code",
   "execution_count": 7,
   "metadata": {},
   "outputs": [],
   "source": [
    "# gridsearch\n",
    "grid_model1 = GridSearchCV(model1, param1, cv=5, scoring='r2')\n",
    "grid_model2 = GridSearchCV(model2, param2, cv=5, scoring='r2')\n",
    "grid_model3 = GridSearchCV(model3, param3, cv=5, scoring='r2')\n",
    "grid_model4 = GridSearchCV(model4, param4, cv=5, scoring='r2')"
   ]
  },
  {
   "cell_type": "code",
   "execution_count": 8,
   "metadata": {},
   "outputs": [],
   "source": [
    "# trian model 1\n",
    "grid_model1.fit(X_train, y_train)\n",
    "# train model 2\n",
    "grid_model2.fit(X_train, y_train)\n",
    "# train model 3\n",
    "grid_model3.fit(X_train, y_train)\n",
    "# train model 4\n",
    "grid_model4.fit(X_train, y_train)"
   ]
  },
  {
   "cell_type": "code",
   "execution_count": null,
   "metadata": {},
   "outputs": [],
   "source": [
    "# evaluate model 1\n",
    "print(f'Best score model 1: {grid_model1.best_score_}')\n",
    "print(f'Best param model 1: {grid_model1.best_params_}')\n",
    "# evaluate model 2\n",
    "print(f'Best score model 2: {grid_model2.best_score_}')\n",
    "print(f'Best param model 2: {grid_model2.best_params_}')\n",
    "# evaluate model 3\n",
    "print(f'Best score model 3: {grid_model3.best_score_}')\n",
    "print(f'Best param model 3: {grid_model3.best_params_}')\n",
    "# evaluate model 4\n",
    "print(f'Best score model 4: {grid_model4.best_score_}')\n",
    "print(f'Best param model 4: {grid_model4.best_params_}')"
   ]
  },
  {
   "cell_type": "code",
   "execution_count": null,
   "metadata": {},
   "outputs": [],
   "source": [
    "# save all model\n",
    "joblib.dump(grid_model1, 'model/model1.joblib')\n",
    "joblib.dump(grid_model2, 'model/model2.joblib')\n",
    "joblib.dump(grid_model3, 'model/model3.joblib')\n",
    "joblib.dump(grid_model4, 'model/model4.joblib')"
   ]
  },
  {
   "cell_type": "code",
   "execution_count": null,
   "metadata": {},
   "outputs": [],
   "source": [
    "\", \".join(X_test.columns.tolist())"
   ]
  },
  {
   "cell_type": "code",
   "execution_count": null,
   "metadata": {},
   "outputs": [],
   "source": [
    "from joblib import load\n",
    "def create_df(bedrooms, bathrooms, sqft_living, view, grade, sqft_above, sqft_basement, lat, sqft_living15):\n",
    "    df = pd.DataFrame({\n",
    "        'bedrooms': [bedrooms],\n",
    "        'bathrooms': [bathrooms],\n",
    "        'sqft_living': [sqft_living],\n",
    "        'view': [view],\n",
    "        'grade': [grade],\n",
    "        'sqft_above': [sqft_above],\n",
    "        'sqft_basement': [sqft_basement],\n",
    "        'lat': [lat],\n",
    "        'sqft_living15': [sqft_living15]\n",
    "    })\n",
    "    return df\n",
    "\n",
    "def predict_price(df):\n",
    "    model = load('model/model3.joblib')\n",
    "    return model.predict(df)[0]\n",
    "\n",
    "# test\n",
    "df = create_df(3, 2, 1180, 0, 7, 1180, 0, 47.5112, 1340)\n",
    "predict_price(df)"
   ]
  }
 ],
 "metadata": {
  "kernelspec": {
   "display_name": "base",
   "language": "python",
   "name": "python3"
  },
  "language_info": {
   "codemirror_mode": {
    "name": "ipython",
    "version": 3
   },
   "file_extension": ".py",
   "mimetype": "text/x-python",
   "name": "python",
   "nbconvert_exporter": "python",
   "pygments_lexer": "ipython3",
   "version": "3.10.8"
  },
  "orig_nbformat": 4
 },
 "nbformat": 4,
 "nbformat_minor": 2
}
